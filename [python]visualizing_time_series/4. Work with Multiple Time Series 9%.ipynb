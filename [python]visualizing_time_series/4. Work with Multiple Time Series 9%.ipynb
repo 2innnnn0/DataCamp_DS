{
 "cells": [
  {
   "cell_type": "markdown",
   "metadata": {
    "lang": "en"
   },
   "source": [
    "## Load multiple time series\n",
    "Whether it is during personal projects or your day-to-day work as a Data Scientist, it is likely that you will encounter situations that require the analysis and visualization of multiple time series at the same time.\n",
    "\n",
    "Provided that the data for each time series is stored in distinct columns of a file, the pandas library makes it easy to work with multiple time series. In the following exercises, you will work with a new time series dataset that contains the amount of different types of meat produced in the USA between 1944 and 2012.\n",
    "\n",
    "INSTRUCTIONS\n",
    "100 XP\n",
    "- We've imported pandas using the pd alias.\n",
    "\n",
    "- Read in the the csv file located at url_meat into a DataFrame called meat.\n",
    "- Convert the date column in meat to the datetime type.\n",
    "- Set the date column as the index of meat.\n",
    "- Print the summary statistics of all the numeric columns in meat.\n"
   ]
  },
  {
   "cell_type": "markdown",
   "metadata": {
    "lang": "ko"
   },
   "source": [
    "여러 개의 시계열로드\n",
    "개인 프로젝트 또는 데이터 과학자로서의 일상 업무 중 어느 것이든지 여러 시간 시리즈를 동시에 분석하고 시각화해야하는 상황이 발생할 수 있습니다.\n",
    "\n",
    "각 시계열에 대한 데이터가 파일의 고유 한 열에 저장되어 있으면 판다 라이브러리에서 여러 시계열로 작업하기 쉽습니다. 다음 연습에서는 1944 년과 2012 년 사이에 미국에서 생산 된 여러 유형의 고기가 들어있는 새로운 시계열 데이터 세트를 사용하게됩니다.\n",
    "\n",
    "명령\n",
    "100XP\n",
    "- 우리는 pd 별칭을 사용하여 팬더를 가져 왔습니다.\n",
    "\n",
    "- url_meat에있는 csv 파일을 고기라고하는 DataFrame으로 읽습니다.\n",
    "- 고기의 날짜 열을 datetime 유형으로 변환하십시오.\n",
    "- 날짜 열을 고기 색인으로 설정하십시오.\n",
    "- 고기의 모든 숫자 열에 대한 요약 통계를 인쇄하십시오."
   ]
  },
  {
   "cell_type": "code",
   "execution_count": null,
   "metadata": {},
   "outputs": [],
   "source": []
  }
 ],
 "metadata": {
  "kernelspec": {
   "display_name": "Python [conda root]",
   "language": "python",
   "name": "conda-root-py"
  },
  "language_info": {
   "codemirror_mode": {
    "name": "ipython",
    "version": 3
   },
   "file_extension": ".py",
   "mimetype": "text/x-python",
   "name": "python",
   "nbconvert_exporter": "python",
   "pygments_lexer": "ipython3",
   "version": "3.6.5"
  },
  "nbTranslate": {
   "displayLangs": [
    "ko"
   ],
   "hotkey": "alt-t",
   "langInMainMenu": true,
   "sourceLang": "en",
   "targetLang": "ko",
   "useGoogleTranslate": true
  }
 },
 "nbformat": 4,
 "nbformat_minor": 2
}
