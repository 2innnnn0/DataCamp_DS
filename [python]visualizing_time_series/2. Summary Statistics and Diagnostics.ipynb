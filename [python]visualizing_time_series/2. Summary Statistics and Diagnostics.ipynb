{
 "cells": [
  {
   "cell_type": "markdown",
   "metadata": {},
   "source": [
    "## Clean your time series data\n",
    "\n",
    "### Find missing values"
   ]
  },
  {
   "cell_type": "code",
   "execution_count": null,
   "metadata": {},
   "outputs": [],
   "source": [
    "# Display first seven rows of co2_levels\n",
    "print(co2_levels.head(7))"
   ]
  },
  {
   "cell_type": "markdown",
   "metadata": {},
   "source": [
    "<script.py> output:\n",
    "        datestamp    co2\n",
    "    0  1958-03-29  316.1\n",
    "    1  1958-04-05  317.3\n",
    "    2  1958-04-12  317.6\n",
    "    3  1958-04-19  317.5\n",
    "    4  1958-04-26  316.4\n",
    "    5  1958-05-03  316.9\n",
    "    6  1958-05-10    NaN"
   ]
  },
  {
   "cell_type": "code",
   "execution_count": null,
   "metadata": {},
   "outputs": [],
   "source": [
    "# Set datestamp column as index\n",
    "co2_levels = co2_levels.set_index('datestamp')\n",
    "\n",
    "# Print out the number of missing values\n",
    "print(co2_levels.isnull().sum())"
   ]
  },
  {
   "cell_type": "markdown",
   "metadata": {},
   "source": [
    "              co2\n",
    "datestamp        \n",
    "1958-03-29  316.1\n",
    "1958-04-05  317.3\n",
    "1958-04-12  317.6\n",
    "1958-04-19  317.5\n",
    "1958-04-26  316.4\n",
    "1958-05-03  316.9\n",
    "1958-05-10    NaN\n",
    "1958-05-17  317.5\n",
    "1958-05-24  317.9\n",
    "1958-05-31    NaN\n",
    "1958-06-07    NaN\n",
    "1958-06-14    NaN\n",
    "\n",
    "---------------\n",
    "<script.py> output:\n",
    "    co2    59\n",
    "    dtype: int64\n"
   ]
  },
  {
   "cell_type": "markdown",
   "metadata": {},
   "source": [
    "### Handle missing values"
   ]
  },
  {
   "cell_type": "code",
   "execution_count": null,
   "metadata": {},
   "outputs": [],
   "source": []
  }
 ],
 "metadata": {
  "kernelspec": {
   "display_name": "Python [conda root]",
   "language": "python",
   "name": "conda-root-py"
  },
  "language_info": {
   "codemirror_mode": {
    "name": "ipython",
    "version": 3
   },
   "file_extension": ".py",
   "mimetype": "text/x-python",
   "name": "python",
   "nbconvert_exporter": "python",
   "pygments_lexer": "ipython3",
   "version": "3.6.5"
  }
 },
 "nbformat": 4,
 "nbformat_minor": 2
}
